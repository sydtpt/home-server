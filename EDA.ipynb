{
 "cells": [
  {
   "cell_type": "markdown",
   "id": "8eb2a596",
   "metadata": {},
   "source": [
    "# Install"
   ]
  },
  {
   "cell_type": "code",
   "execution_count": null,
   "id": "62410512",
   "metadata": {},
   "outputs": [],
   "source": [
    "pip install pandas\n"
   ]
  },
  {
   "cell_type": "code",
   "execution_count": null,
   "id": "44b7c1da",
   "metadata": {},
   "outputs": [],
   "source": [
    "from scheduleController import schedulerController\n",
    "from datetime import datetime, timedelta\n",
    "\n",
    "# Instantiate the schedulerController class\n",
    "controller = schedulerController()\n"
   ]
  },
  {
   "cell_type": "code",
   "execution_count": null,
   "id": "ce9a5701",
   "metadata": {},
   "outputs": [],
   "source": [
    "controller.scheduled_task()"
   ]
  }
 ],
 "metadata": {
  "kernelspec": {
   "display_name": "Python 3 (ipykernel)",
   "language": "python",
   "name": "python3"
  },
  "language_info": {
   "codemirror_mode": {
    "name": "ipython",
    "version": 3
   },
   "file_extension": ".py",
   "mimetype": "text/x-python",
   "name": "python",
   "nbconvert_exporter": "python",
   "pygments_lexer": "ipython3",
   "version": "3.12.1"
  }
 },
 "nbformat": 4,
 "nbformat_minor": 5
}
