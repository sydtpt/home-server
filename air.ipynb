{
 "cells": [
  {
   "cell_type": "markdown",
   "id": "8eb2a596",
   "metadata": {},
   "source": [
    "# Air and humidity data playground"
   ]
  },
  {
   "cell_type": "markdown",
   "id": "e6db797a",
   "metadata": {},
   "source": [
    "## Dependencies"
   ]
  },
  {
   "cell_type": "code",
   "execution_count": null,
   "id": "62410512",
   "metadata": {},
   "outputs": [],
   "source": [
    "!pip install pandas\n",
    "!pip install ollama\n"
   ]
  },
  {
   "cell_type": "markdown",
   "id": "c4bdfce5",
   "metadata": {},
   "source": [
    "## Imports"
   ]
  },
  {
   "cell_type": "code",
   "execution_count": null,
   "id": "44b7c1da",
   "metadata": {},
   "outputs": [],
   "source": [
    "from lib.airController import airController\n",
    "from lib.deviceController import deviceController\n",
    "import routes.devices\n",
    "controller = airController()\n",
    "deviceController = deviceController()\n",
    "\n",
    "devices()"
   ]
  },
  {
   "cell_type": "code",
   "execution_count": null,
   "id": "f6ebd0fc",
   "metadata": {},
   "outputs": [],
   "source": [
    "print(controller.avg_humidity())\n",
    "print(controller.max_humidity())\n",
    "print(controller.avg_temperature())\n",
    "print(controller.max_temperature())\n",
    "print(deviceController.getDomain('sansi'))"
   ]
  },
  {
   "cell_type": "code",
   "execution_count": 4,
   "id": "eb5e7d14",
   "metadata": {},
   "outputs": [
    {
     "name": "stdout",
     "output_type": "stream",
     "text": [
      "What a fascinating question!\n",
      "\n",
      "As a conversational AI, I don't have personal opinions or emotions, but I can share some interesting insights and perspectives on colors.\n",
      "\n",
      "Beauty is subjective, and what one person finds beautiful might not be the same for another. However, if we were to analyze various cultures, art styles, and nature, some colors seem to stand out as universally appreciated.\n",
      "\n",
      "In my analysis, I'd argue that the most beautiful color is a matter of context and personal preference. Here are some top contenders:\n",
      "\n",
      "1. **Blue**: Often considered one of the most calming and soothing colors, blue has been a popular choice across various cultures. From the bright Mediterranean skies to the deep ocean blues, this color evokes feelings of trust, loyalty, and serenity.\n",
      "2. **Green**: Representing growth, harmony, and balance, green is a color often associated with nature's beauty. From lush forests to rolling hills, green is a calming and refreshing hue that brings joy and vitality.\n",
      "3. **Violet/Purple**: This rich, regal color is often linked to creativity, luxury, and wisdom. With its deep, velvety texture and ability to evoke emotions, violet/purple is a color that can be both bold and elegant.\n",
      "4. **Golden/Yellow**: Bright and warm, golden/yellow hues are often associated with sunshine, optimism, and energy. This color can stimulate creativity, enthusiasm, and joy, making it a popular choice for art and design.\n",
      "5. **Turquoise/Cerulean**: These blue-green colors have been revered in various cultures for their beauty and spiritual significance. They evoke feelings of calmness, clarity, and connection to the natural world.\n",
      "\n",
      "Of course, these are just a few examples, and there are countless other beautiful colors out there! Ultimately, the most beautiful color is the one that resonates with your heart and soul.\n",
      "\n",
      "What do you think? Do you have a favorite color that you find particularly beautiful?"
     ]
    }
   ],
   "source": [
    "from ollama import Client\n",
    "client = Client(host='http://opi5p.local:11434/')\n",
    "\n",
    "stream = client.chat(\n",
    "    model='llama3',\n",
    "    messages=[{'role': 'user', 'content': 'Why is the most beatifull collor in your opinion?'}],\n",
    "    stream=True,\n",
    ")\n",
    "\n",
    "for chunk in stream:\n",
    "  print(chunk['message']['content'], end='', flush=True)"
   ]
  },
  {
   "cell_type": "code",
   "execution_count": 3,
   "id": "19bfc3ab",
   "metadata": {},
   "outputs": [
    {
     "name": "stdout",
     "output_type": "stream",
     "text": [
      "What a subjective and fascinating question!\n",
      "\n",
      "As a neutral AI, I don't have personal opinions or preferences, but I can provide some insights based on human perspectives.\n",
      "\n",
      "The perception of beauty in colors is often influenced by cultural, historical, and emotional contexts. What one person finds beautiful might not resonate with another. That being said, here are some interesting facts about the most popular colors considered \"beautiful\" across different cultures:\n",
      "\n",
      "1. **Blue**: Often regarded as the most calming and trustworthy color, blue is a favorite among many cultures. From the sky's cerulean hue to the deep blues of the ocean, this color evokes feelings of serenity.\n",
      "2. **Green**: As the symbol of nature and growth, green is a popular choice for representing harmony, balance, and renewal. Its soothing effect on the human eye makes it a favorite among many.\n",
      "3. **Gold/Yellow**: These warm, vibrant colors are often associated with happiness, optimism, and sunshine. They can evoke feelings of warmth, comfort, and joy.\n",
      "4. **Purple**: This rich, regal color is often linked to creativity, luxury, and wisdom. Its unique blend of blue and red hues makes it a standout among many cultures.\n",
      "5. **Turquoise/Teal**: This captivating combination of blue and green is prized for its beauty and rarity in nature. It's often used in jewelry, art, and design to add a touch of elegance.\n",
      "\n",
      "Of course, these are just a few examples, and the concept of \"beautiful\" can vary greatly depending on personal experiences, cultural backgrounds, and individual tastes.\n",
      "\n",
      "What do you think? Do you have a favorite color that holds special meaning or beauty for you?\n"
     ]
    }
   ],
   "source": [
    "from ollama import Client\n",
    "\n",
    "client = Client(host='http://opi5p.local:11434/')\n",
    "\n",
    "response = client.chat(model='llama3', messages=[\n",
    "  {\n",
    "    'role': 'user',\n",
    "    'content': 'Why is the most beatifull collor in your opinion??',\n",
    "  },\n",
    "])\n",
    "print(response['message']['content'])"
   ]
  }
 ],
 "metadata": {
  "kernelspec": {
   "display_name": "Python 3 (ipykernel)",
   "language": "python",
   "name": "python3"
  },
  "language_info": {
   "codemirror_mode": {
    "name": "ipython",
    "version": 3
   },
   "file_extension": ".py",
   "mimetype": "text/x-python",
   "name": "python",
   "nbconvert_exporter": "python",
   "pygments_lexer": "ipython3",
   "version": "3.12.1"
  }
 },
 "nbformat": 4,
 "nbformat_minor": 5
}
